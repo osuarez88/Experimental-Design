{
 "cells": [
  {
   "cell_type": "markdown",
   "metadata": {},
   "source": [
    "# 1. Introduction\n",
    "\n",
    "The cost of healthcare can vary greatly between individuals. The data set Medical Cost Personal Datasets from Kaggle (https://www.kaggle.com/mirichoi0218/insurance) records the charges accrued by each patient’s insurance and gives other metrics and categories for each patient that may or may not contribute to the amount of charges accrued.\n",
    "\n",
    "The data I am most interested in are the \"smoker\" and \"charges\" columns which tell us whether or not the patient is a smoker and the amount of insurance charges the patient has accrued."
   ]
  },
  {
   "cell_type": "markdown",
   "metadata": {},
   "source": [
    "# 2. Hypothesis\n",
    "\n",
    "The null and alternative hypotheses are as follows:\n",
    ">*h<sub>o<sub/>*: There is no difference between the means of charges for smokers and non-smokers.\n",
    "\n",
    ">*h<sub>a<sub/>*: There is a significant difference between the means of charges for smokers and non-smokers\n",
    "\n",
    "I will test these hypotheses by obtaining a p-value and confidence level using Python and Python libraries, specifically Pandas (for data cleaning and analysis) and Seaborn (for visuals)."
   ]
  },
  {
   "cell_type": "markdown",
   "metadata": {},
   "source": [
    "# 3. Data\n",
    "\n",
    "The data are categorized by age, sex, and region. Other features, such as the \"children\" column tells us the number of children who are covered by the insurance. The data also tells us their BMI (Body Mass Index), which is an indicator of obesity or underweightness as a ratio of height and weight. \n",
    "  \n",
    "One potential limiter to the data is that there is no indication as to the time frame of the charges. We are assuming that the charges are all over a uniform amount of time (i.e. a year). Should it be the case that this dataset does not use a singular amount of time, this would mean that any significance tests would be invalid.\n",
    "    \n",
    "I will begin by importing the libraries and loading the data."
   ]
  },
  {
   "cell_type": "code",
   "execution_count": 1,
   "metadata": {},
   "outputs": [],
   "source": [
    "import pandas as pd\n",
    "import numpy as np\n",
    "%matplotlib inline\n",
    "import matplotlib.pyplot as plt\n",
    "import scipy.stats as stats\n",
    "import seaborn as sns\n",
    "import math"
   ]
  },
  {
   "cell_type": "code",
   "execution_count": 2,
   "metadata": {},
   "outputs": [],
   "source": [
    "data = pd.read_csv('insurance.csv')\n",
    "# If you are running this notebook on your own machine, please visit the following link\n",
    "# https://www.kaggle.com/mirichoi0218/insurance?select=insurance.csv\n",
    "# Download it and use the file path instead of 'insurance.csv'"
   ]
  },
  {
   "cell_type": "markdown",
   "metadata": {},
   "source": [
    "I will show the first five rows to get an idea of the layout of the DataFrame. "
   ]
  },
  {
   "cell_type": "code",
   "execution_count": 21,
   "metadata": {
    "scrolled": true
   },
   "outputs": [
    {
     "data": {
      "text/html": [
       "<div>\n",
       "<style scoped>\n",
       "    .dataframe tbody tr th:only-of-type {\n",
       "        vertical-align: middle;\n",
       "    }\n",
       "\n",
       "    .dataframe tbody tr th {\n",
       "        vertical-align: top;\n",
       "    }\n",
       "\n",
       "    .dataframe thead th {\n",
       "        text-align: right;\n",
       "    }\n",
       "</style>\n",
       "<table border=\"1\" class=\"dataframe\">\n",
       "  <thead>\n",
       "    <tr style=\"text-align: right;\">\n",
       "      <th></th>\n",
       "      <th>age</th>\n",
       "      <th>sex</th>\n",
       "      <th>bmi</th>\n",
       "      <th>children</th>\n",
       "      <th>smoker</th>\n",
       "      <th>region</th>\n",
       "      <th>charges</th>\n",
       "    </tr>\n",
       "  </thead>\n",
       "  <tbody>\n",
       "    <tr>\n",
       "      <th>0</th>\n",
       "      <td>19</td>\n",
       "      <td>female</td>\n",
       "      <td>27.90</td>\n",
       "      <td>0</td>\n",
       "      <td>yes</td>\n",
       "      <td>southwest</td>\n",
       "      <td>16884.9240</td>\n",
       "    </tr>\n",
       "    <tr>\n",
       "      <th>1</th>\n",
       "      <td>18</td>\n",
       "      <td>male</td>\n",
       "      <td>33.77</td>\n",
       "      <td>1</td>\n",
       "      <td>no</td>\n",
       "      <td>southeast</td>\n",
       "      <td>1725.5523</td>\n",
       "    </tr>\n",
       "  </tbody>\n",
       "</table>\n",
       "</div>"
      ],
      "text/plain": [
       "   age     sex    bmi  children smoker     region     charges\n",
       "0   19  female  27.90         0    yes  southwest  16884.9240\n",
       "1   18    male  33.77         1     no  southeast   1725.5523"
      ]
     },
     "execution_count": 21,
     "metadata": {},
     "output_type": "execute_result"
    }
   ],
   "source": [
    "data.head(2)"
   ]
  },
  {
   "cell_type": "markdown",
   "metadata": {},
   "source": [
    "# 4. Methods\n",
    "\n",
    "For this analysis I will explore the differences between the patients who are smokers and the ones who are not smokers. The goal is to demonstrate that there is a significant difference in the medical charges accrued by each group.\n",
    "\n",
    "I will check to see if there are missing values."
   ]
  },
  {
   "cell_type": "code",
   "execution_count": 4,
   "metadata": {},
   "outputs": [
    {
     "data": {
      "text/plain": [
       "age         0\n",
       "sex         0\n",
       "bmi         0\n",
       "children    0\n",
       "smoker      0\n",
       "region      0\n",
       "charges     0\n",
       "dtype: int64"
      ]
     },
     "execution_count": 4,
     "metadata": {},
     "output_type": "execute_result"
    }
   ],
   "source": [
    "data.isnull().sum()"
   ]
  },
  {
   "cell_type": "markdown",
   "metadata": {},
   "source": [
    "There are no missing values, which will make analysis a bit easier.\n",
    "\n",
    "Next, I split the data into two categories:\n",
    "Smokers and Non-smokers"
   ]
  },
  {
   "cell_type": "code",
   "execution_count": 5,
   "metadata": {},
   "outputs": [],
   "source": [
    "smokers = data[data['smoker'] == 'yes']\n",
    "non_smokers = data[data['smoker'] == 'no']"
   ]
  },
  {
   "cell_type": "markdown",
   "metadata": {},
   "source": [
    "Let's take a look at how the data are distributed in the charges column for smokers and non_smokers"
   ]
  },
  {
   "cell_type": "code",
   "execution_count": 6,
   "metadata": {},
   "outputs": [
    {
     "name": "stdout",
     "output_type": "stream",
     "text": [
      "--------------smokers: \n",
      " DescribeResult(nobs=274, minmax=(12829.4551, 63770.42801), mean=32050.23183153284, variance=133207311.20634924, skewness=0.127514285857385, kurtosis=-1.0395337984245219)\n",
      "--------------non-smokers: \n",
      " DescribeResult(nobs=1064, minmax=(1121.8739, 36910.60803), mean=8434.268297856204, variance=35925420.49611173, skewness=1.5359507841880067, kurtosis=3.1288070753114896)\n"
     ]
    }
   ],
   "source": [
    "print('--------------smokers: \\n', stats.describe(smokers.charges))\n",
    "print('--------------non-smokers: \\n', stats.describe(non_smokers.charges))"
   ]
  },
  {
   "cell_type": "markdown",
   "metadata": {},
   "source": [
    "Based on the description of the data alone, we can see that there are a lot more non-smokers than smokers. Also, the skewness and kurtosis make me think that the data are not normally distributed.\n",
    "\n",
    "Next, I will visualize the data using a violin plot with the means shown as horizontal lines. The white dots at the center of the violin plots are the medians of the datasets."
   ]
  },
  {
   "cell_type": "code",
   "execution_count": 20,
   "metadata": {
    "scrolled": true
   },
   "outputs": [
    {
     "data": {
      "image/png": "[encoded data removed]",
      "text/plain": [
       "<Figure size 432x288 with 1 Axes>"
      ]
     },
     "metadata": {
      "needs_background": "light"
     },
     "output_type": "display_data"
    }
   ],
   "source": [
    "ax = sns.violinplot(x=data.smoker, y=data.charges)\n",
    "plt.axhline(smokers.charges.mean(), color='r')\n",
    "plt.axhline(non_smokers.charges.mean(), color='b')\n",
    "ax.spines[\"top\"].set_visible(False)    \n",
    "ax.spines[\"bottom\"].set_visible(False)    \n",
    "ax.spines[\"right\"].set_visible(False)    \n",
    "ax.spines[\"left\"].set_visible(False)\n",
    "plt.title(\"Smokers vs Non-Smokers Charges\", fontsize=22)\n",
    "plt.savefig('smokers_vs_nonsmokers.jpeg')\n",
    "plt.show()\n"
   ]
  },
  {
   "cell_type": "markdown",
   "metadata": {},
   "source": [
    "After looking at the distributions of the charges for smokers and non-smokers, I determined that the smoker data appears to be approximately normal. However, the non-smoker data does not appear normal. Because of this, I decided to run a Shapiro-Wilk test to determine if the data are normal."
   ]
  },
  {
   "cell_type": "code",
   "execution_count": 8,
   "metadata": {},
   "outputs": [
    {
     "name": "stdout",
     "output_type": "stream",
     "text": [
      "smokers: ShapiroResult(statistic=0.9395521879196167, pvalue=3.6251879276250065e-09)\n",
      "non-smokers: ShapiroResult(statistic=0.8728628158569336, pvalue=1.4455900162299346e-28)\n"
     ]
    }
   ],
   "source": [
    "print('smokers:', stats.shapiro(smokers['charges']))\n",
    "print('non-smokers:', stats.shapiro(non_smokers['charges']))"
   ]
  },
  {
   "cell_type": "markdown",
   "metadata": {},
   "source": [
    "The Shapiro-Wilk test returned p-values under 0.05 for both sets of data, rejecting the null hypothesis that the data are normal. \n",
    "\n",
    "Since both the charges for smokers and non-smokers are not normal, I will conduct a Kruskal-Wallis Test to obtain a p-value at the 95% confidence level."
   ]
  },
  {
   "cell_type": "code",
   "execution_count": 9,
   "metadata": {},
   "outputs": [
    {
     "data": {
      "text/plain": [
       "KruskalResult(statistic=588.5196583657973, pvalue=5.259018267498522e-130)"
      ]
     },
     "execution_count": 9,
     "metadata": {},
     "output_type": "execute_result"
    }
   ],
   "source": [
    "stats.kruskal(smokers.charges, non_smokers.charges)"
   ]
  },
  {
   "cell_type": "markdown",
   "metadata": {},
   "source": [
    "The Kruskal-Wallis Test calculated a p-value that is much smaller than 0.05. We can reject the null hypothesis that there is not a significant difference between the means of charges for smokers and non-smokers.\n",
    "\n",
    "At the 95% confidence level we can say that the means are significantly different. \n",
    "\n",
    "So how different are they?\n",
    "\n",
    "I will create a function that calculates the 95% confidence interval."
   ]
  },
  {
   "cell_type": "code",
   "execution_count": 10,
   "metadata": {},
   "outputs": [],
   "source": [
    "def get_95_ci(array_1, array_2):\n",
    "    sample_1_n = array_1.shape[0]\n",
    "    sample_2_n = array_2.shape[0]\n",
    "    sample_1_mean = array_1.mean()\n",
    "    sample_2_mean = array_2.mean()\n",
    "    sample_1_var = array_1.var()\n",
    "    sample_2_var = array_2.var()\n",
    "    mean_difference = sample_2_mean - sample_1_mean\n",
    "    std_err_difference = math.sqrt((sample_1_var/sample_1_n)+(sample_2_var/sample_2_n))\n",
    "    margin_of_error = 1.96 * std_err_difference\n",
    "    ci_lower = mean_difference - margin_of_error\n",
    "    ci_upper = mean_difference + margin_of_error\n",
    "    return(\"The difference in means at the 95% confidence interval (two-tail) is between \"+str(ci_lower)+\" and \"+str(ci_upper)+\".\")"
   ]
  },
  {
   "cell_type": "code",
   "execution_count": 11,
   "metadata": {},
   "outputs": [
    {
     "data": {
      "text/plain": [
       "'The difference in means at the 95% confidence interval (two-tail) is between 22202.692675635477 and 25029.234391717826.'"
      ]
     },
     "execution_count": 11,
     "metadata": {},
     "output_type": "execute_result"
    }
   ],
   "source": [
    "get_95_ci(non_smokers.charges, smokers.charges)"
   ]
  },
  {
   "cell_type": "markdown",
   "metadata": {},
   "source": [
    "The confidence interval says that there is a 95% chance that the difference in means will fall between the two numbers.\n",
    "\n",
    "Next, I will calculate the means and take the difference."
   ]
  },
  {
   "cell_type": "code",
   "execution_count": 12,
   "metadata": {},
   "outputs": [
    {
     "name": "stdout",
     "output_type": "stream",
     "text": [
      "The difference between the mean of charges for smokers and non-smokers is approximately 23615.96\n"
     ]
    }
   ],
   "source": [
    "mean_diff = smokers.charges.mean() - non_smokers.charges.mean()\n",
    "print(f'The difference between the mean of charges for smokers and non-smokers is approximately {round(mean_diff,2)}')"
   ]
  },
  {
   "cell_type": "markdown",
   "metadata": {},
   "source": [
    "I will use a lineplot to visualize the difference between the data for smokers and non-smokers. I will do this by using the patient's age as the independent variable."
   ]
  },
  {
   "cell_type": "code",
   "execution_count": 13,
   "metadata": {
    "scrolled": true
   },
   "outputs": [
    {
     "data": {
      "image/png": "[encoded data removed]",
      "text/plain": [
       "<Figure size 432x288 with 1 Axes>"
      ]
     },
     "metadata": {
      "needs_background": "light"
     },
     "output_type": "display_data"
    }
   ],
   "source": [
    "sns.lineplot(x='age', y='charges', data=smokers)\n",
    "sns.lineplot(x='age', y='charges', data=non_smokers)\n",
    "plt.legend(('smokers', 'non-smokers'))\n",
    "plt.show()"
   ]
  },
  {
   "cell_type": "markdown",
   "metadata": {},
   "source": [
    "There seems to be a lot of variability in the data for smokers. This could be due to another factor that we are not testing for. Perhaps the disparity is the cause of the difference in BMI within each group. However, we can still clearly visualize that the entire smoker dataset sits at a higher place in the graph."
   ]
  },
  {
   "cell_type": "markdown",
   "metadata": {},
   "source": [
    "# 5. Results Summary\n",
    "\n",
    "Upon inspection of the data mathematically and visually, it was determined that the distributions of charges for smokers and non-smokers were non-normal. It was established that there was a significant difference between the means of the two groups. A p-value of < 0.05 and a confidence interval of 95% was calculated and was inspected visually.\n",
    "\n",
    "The p-value and confidence interval tells us that we can trust the difference of the means to be significant enough to make business decisions based on those values."
   ]
  },
  {
   "cell_type": "markdown",
   "metadata": {},
   "source": [
    "# 6. Discussion and recommendation\n",
    "\n",
    "Now that we have concluded that there is a significant difference between the medical charges accrued by smokers and non-smokers, we can begin to look at what this may mean as a business strategy to increase revenue."
   ]
  }
 ],
 "metadata": {
  "kernelspec": {
   "display_name": "Python 3",
   "language": "python",
   "name": "python3"
  },
  "language_info": {
   "codemirror_mode": {
    "name": "ipython",
    "version": 3
   },
   "file_extension": ".py",
   "mimetype": "text/x-python",
   "name": "python",
   "nbconvert_exporter": "python",
   "pygments_lexer": "ipython3",
   "version": "3.8.3"
  },
  "toc": {
   "base_numbering": 1,
   "nav_menu": {},
   "number_sections": true,
   "sideBar": true,
   "skip_h1_title": false,
   "title_cell": "Table of Contents",
   "title_sidebar": "Contents",
   "toc_cell": false,
   "toc_position": {},
   "toc_section_display": true,
   "toc_window_display": false
  },
  "varInspector": {
   "cols": {
    "lenName": 16,
    "lenType": 16,
    "lenVar": 40
   },
   "kernels_config": {
    "python": {
     "delete_cmd_postfix": "",
     "delete_cmd_prefix": "del ",
     "library": "var_list.py",
     "varRefreshCmd": "print(var_dic_list())"
    },
    "r": {
     "delete_cmd_postfix": ") ",
     "delete_cmd_prefix": "rm(",
     "library": "var_list.r",
     "varRefreshCmd": "cat(var_dic_list()) "
    }
   },
   "types_to_exclude": [
    "module",
    "function",
    "builtin_function_or_method",
    "instance",
    "_Feature"
   ],
   "window_display": false
  }
 },
 "nbformat": 4,
 "nbformat_minor": 4
}
